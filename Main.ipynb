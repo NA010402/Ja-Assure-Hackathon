{
 "cells": [
  {
   "cell_type": "code",
   "execution_count": 113,
   "id": "9b7e39d7",
   "metadata": {},
   "outputs": [],
   "source": [
    "import numpy as np\n",
    "from qiskit import *\n",
    "from qiskit.visualization import *"
   ]
  },
  {
   "cell_type": "code",
   "execution_count": 114,
   "id": "e9568c02",
   "metadata": {},
   "outputs": [
    {
     "name": "stdout",
     "output_type": "stream",
     "text": [
      "00000110\n"
     ]
    }
   ],
   "source": [
    "# PassPhrase=[]\n",
    "n_qubits = 8\n",
    "indx=0\n",
    "PassPhrase=\"\"\n",
    "j=\"\"\n",
    "alice_random_string = np.random.randint(2, size = n_qubits)\n",
    "for i in alice_random_string:\n",
    "    j=str(i)\n",
    "    PassPhrase = PassPhrase + j\n",
    "print(PassPhrase)"
   ]
  },
  {
   "cell_type": "code",
   "execution_count": 115,
   "metadata": {},
   "outputs": [
    {
     "name": "stdout",
     "output_type": "stream",
     "text": [
      "Enter in the 16 character passphrase to encrypt your text file \n",
      "Inside your plaintext message is:\n",
      "name\tpokedex id\theight\tweight\ttype\tsecundary type\thp\tattack\tdefense\tsp atk\tsp def\tspeed\n",
      "bulbasaur\t1\t7\t69\tgrass\tpoison\t45\t49\t49\t65\t65\t45\n",
      "ivysaur\t2\t10\t130\tgrass\tpoison\t60\t62\t63\t80\t80\t60\n",
      "venusaur\t3\t20\t1000\tgrass\tpoison\t80\t82\t83\t100\t100\t80\n",
      "charmander\t4\t6\t85\tfire\tNone\t39\t52\t43\t60\t50\t65\n",
      "charmeleon\t5\t11\t190\tfire\tNone\t58\t64\t58\t80\t65\t80\n",
      "charizard\t6\t17\t905\tfire\tflying\t78\t84\t78\t109\t85\t100\n",
      "squirtle\t7\t5\t90\twater\tNone\t44\t48\t65\t50\t64\t43\n",
      "wartortle\t8\t10\t225\twater\tNone\t59\t63\t80\t65\t80\t58\n",
      "blastoise\t9\t16\t855\twater\tNone\t79\t83\t100\t85\t105\t78\n",
      "\n",
      "\n",
      "The output hex value for the entire message is:\n",
      "2c6fdb604effc6ba74385a69e9f61240aa34bd9f5c571fc4c85b4d073764597b0c447952ec550a573920a94bfc6d7bc223a961191eb59353c2d57f2798bfa8b85032d23ba73373074f5aa406ca73e4079c583fd2c746b76867d8a4d4239baf96455224df46123c2f582eb1f4829edef042120c64fb8eb03258c31c3cb5271427f27ba17fc822d151620bb68c56decd974a7c579dfc7de91ecc8c10600740c26c6cdc28d1baef40f76e697e7f5b7d10c573f2f51b507f64762d47c7f31ab7e204f8b61533e03ebef96a4d77a4db41ca1d0e8575ad3329f2390e15c3e0563ef603fc0a3f125c3d41dfbe370752e1efa9dbcc1e41b8a613c7ebc1b65b2cc8d6f7be1bc7dfbce1ac61fba090e49a134c51aef8b92b482c4a68112231a3f3de99aa0b603fe32d6076746a45915cf756e1b3610a5201840dee5bc2ccfe81a48a50be03680d84dd4ed08754329a7a2b0c9471750e400dee1e8b252fba16f9324fc40a945526a4946e996a5a283b37576d2e27a97732a1e53493d4ee46ea91185d1a987b5b67360bbaa7e7338128a439dd44979df20d26ad8c4afaa0226c22431c2f9988b2e89aca5cdf747f09ae025cae6453b96a7ceeb5166c826e64db93c7a5c8450a8277413b3f9e1b07110bfbaa89e5f024e19fc54a6193f91e0b0d7346347ddcc080180570e1d0464d0019425a9bd63f4327a0059a651ebf6e6427cc0850b3457e66bc0ffcc792abe254c2cba9d16817f0e680f5c08475de383c532fdaa1fe9471\n",
      "\n"
     ]
    }
   ],
   "source": [
    "from AESencryptfunc import * #import AESencryptfunc module to use functions created for this program\n",
    "import math #import math module to use function such as ceiling\n",
    "\n",
    "while(len(PassPhrase)!=16):\n",
    "    print(\"Enter in the 16 character passphrase to encrypt your text file \")\n",
    "    # PassPhrase=input()#takes in user input of char, eg. \"Iwanttolearnkung\"\n",
    "    if(len(PassPhrase)<16):#check if less than 16 characters, if so add one space character until 16 chars\n",
    "        while(len(PassPhrase)!=16):\n",
    "            PassPhrase=PassPhrase+\"\\00\"\n",
    "    if(len(PassPhrase)>16):#check if bigger than 16 characters, if so then truncate it to be only 16 chars from [0:16]\n",
    "        print(\"Your passphrase was larger than 16, truncating passphrase.\")\n",
    "        PassPhrase=PassPhrase[0:16]\n",
    "\n",
    "#open plaintext.txt file to read and encrypt\n",
    "sys.argv[1]=\"plaintext1.txt\"\n",
    "file=open(sys.argv[1], \"r\")\n",
    "message=(file.read())\n",
    "print(\"Inside your plaintext message is:\\n%s\\n\" % message)\n",
    "file.close()\n",
    "sys.argv[2]=\"ciphertext.txt\"\n",
    "message=BitVector(textstring=message)\n",
    "message=message.get_bitvector_in_hex()\n",
    "replacementptr=0\n",
    "while(replacementptr<len(message)):\n",
    "    if(message[replacementptr:replacementptr+2]=='0a'):\n",
    "        message=message[0:replacementptr]+'0d'+message[replacementptr:len(message)]\n",
    "        replacementptr=replacementptr+4\n",
    "    else:\n",
    "        replacementptr=replacementptr+2\n",
    "\n",
    "message=BitVector(hexstring=message)\n",
    "message=message.get_bitvector_in_ascii()\n",
    "#set up some parameters\n",
    "start=0#set starting pointer for the part to encrypt of the plaintext\n",
    "end=0#set ending pointer for the part to encrypt of the plaintex\n",
    "length=len(message)#check the entire size of the message\n",
    "loopmsg=0.00#create a decimal value\n",
    "loopmsg=math.ceil(length/16)+1#use formula to figure how long the message is and how many 16 character segmentss must be encrypted\n",
    "outputhex=\"\"#setup output message in hex\n",
    "\n",
    "#need to setup roundkeys here\n",
    "PassPhrase=BitVector(textstring=PassPhrase)\n",
    "roundkey1=findroundkey(PassPhrase.get_bitvector_in_hex(),1)\n",
    "roundkey2=findroundkey(roundkey1,2)\n",
    "roundkey3=findroundkey(roundkey2,3)\n",
    "roundkey4=findroundkey(roundkey3,4)\n",
    "roundkey5=findroundkey(roundkey4,5)\n",
    "roundkey6=findroundkey(roundkey5,6)\n",
    "roundkey7=findroundkey(roundkey6,7)\n",
    "roundkey8=findroundkey(roundkey7,8)\n",
    "roundkey9=findroundkey(roundkey8,9)\n",
    "roundkey10=findroundkey(roundkey9,10)\n",
    "roundkeys=[roundkey1,roundkey2,roundkey3,roundkey4,roundkey5,roundkey6,roundkey7,roundkey8,roundkey9,roundkey10]\n",
    "\n",
    "#set up FILEOUT to write\n",
    "FILEOUT = open(sys.argv[2], 'w')\n",
    "\n",
    "# set up the segement message loop parameters\n",
    "for y in range(1, loopmsg): # loop to encrypt all segments of the message\n",
    "    if(end+16<length): #if the end pointer is less than the size of the message, then set the segment to be 16 characters\n",
    "        plaintextseg = message[start:end + 16]\n",
    "    else: #or else if the end pointer is equal to or greator than the size of the message\n",
    "        plaintextseg = message[start:length]\n",
    "        for z in range(0,((end+16)-length),1): #run a while loop to pad the message segement to become 16 characters, if it is 16 already the loop will not run\n",
    "            plaintextseg = plaintextseg+\"\\00\"\n",
    "            #plaintextseg2=BitVector(textstring=plaintextseg)\n",
    "            #print(plaintextseg2.get_bitvector_in_hex())\n",
    "\n",
    "    #add round key zero/ find round key one\n",
    "    bv1 = BitVector(textstring=plaintextseg)\n",
    "    bv2 = PassPhrase\n",
    "    resultbv=bv1^bv2\n",
    "    myhexstring = resultbv.get_bitvector_in_hex()\n",
    "\n",
    "    for x in range(1, 10):  # loop through 9 rounds\n",
    "        # sub byte\n",
    "        myhexstring = resultbv.get_bitvector_in_hex()\n",
    "        temp1=subbyte(myhexstring)\n",
    "\n",
    "        # shift rows\n",
    "        temp2=shiftrow(temp1)\n",
    "\n",
    "        # mix column\n",
    "        bv3 = BitVector(hexstring=temp2)\n",
    "        newbvashex=mixcolumn(bv3)\n",
    "        newbv=BitVector(hexstring=newbvashex)\n",
    "\n",
    "        #add roundkey for current round\n",
    "        bv1 = BitVector(bitlist=newbv)\n",
    "        bv2 = BitVector(hexstring=roundkeys[x-1])\n",
    "        resultbv = bv1 ^ bv2\n",
    "        myhexresult = resultbv.get_bitvector_in_hex()\n",
    "\n",
    "    #start round 10\n",
    "    # sub byte round 10\n",
    "    myhexstring = resultbv.get_bitvector_in_hex()\n",
    "    temp1=subbyte(myhexstring)\n",
    "\n",
    "    # shift rows round 10\n",
    "    temp2=shiftrow(temp1)\n",
    "\n",
    "    # add round key round 10\n",
    "    newbv = BitVector(hexstring=temp2)\n",
    "    bv1 = BitVector(bitlist=newbv)\n",
    "    bv2 = BitVector(hexstring=roundkeys[9])\n",
    "    resultbv = bv1 ^ bv2\n",
    "    myhexstring = resultbv.get_bitvector_in_hex()\n",
    "\n",
    "    #set encrypted hex segement of message to output string\n",
    "    outputhextemp = resultbv.get_hex_string_from_bitvector()\n",
    "    FILEOUT.write(outputhextemp)\n",
    "    start = start + 16 #increment start pointer\n",
    "    end = end + 16 #increment end pointer\n",
    "\n",
    "# encrypted output hex string to specified cipherhex file\n",
    "FILEOUT.close()\n",
    "\n",
    "file2=open(sys.argv[2], \"r\")\n",
    "print(\"The output hex value for the entire message is:\\n%s\\n\" % file2.read())\n",
    "file2.close()"
   ]
  },
  {
   "cell_type": "code",
   "execution_count": 116,
   "id": "990ac812",
   "metadata": {},
   "outputs": [
    {
     "name": "stdout",
     "output_type": "stream",
     "text": [
      "[0 0 0 0 0 1 1 0]\n",
      "[0 1 1 0 1 0 0 1]\n",
      "[0 0 1 0 1 1 1 0]\n"
     ]
    }
   ],
   "source": [
    "alice_basis = np.random.randint(2, size = n_qubits)\n",
    "bob_basis = np.random.randint(2, size = n_qubits)\n",
    "\n",
    "print(alice_random_string)\n",
    "print(alice_basis)\n",
    "print(bob_basis)"
   ]
  },
  {
   "cell_type": "code",
   "execution_count": 117,
   "id": "49d39d22",
   "metadata": {},
   "outputs": [],
   "source": [
    "bb84_circuit = QuantumCircuit(n_qubits)\n",
    "\n",
    "# Alice\n",
    "for index in range(len(alice_random_string)):\n",
    "    if alice_random_string[index] == 1:\n",
    "        bb84_circuit.x(index)\n",
    "    if alice_basis[index] == 1:\n",
    "        bb84_circuit.h(index)\n",
    "bb84_circuit.barrier()\n",
    "\n",
    "# Bob\n",
    "for index in range(len(bob_basis)):\n",
    "    if bob_basis[index] == 1:\n",
    "        bb84_circuit.h(index)\n",
    "\n",
    "bb84_circuit.measure_all()"
   ]
  },
  {
   "cell_type": "code",
   "execution_count": 118,
   "id": "15a6ee5c",
   "metadata": {},
   "outputs": [
    {
     "data": {
      "image/png": "[encoded data removed]",
      "text/plain": [
       "<Figure size 1165.66x785.944 with 1 Axes>"
      ]
     },
     "execution_count": 118,
     "metadata": {},
     "output_type": "execute_result"
    }
   ],
   "source": [
    "bb84_circuit.draw('mpl')"
   ]
  },
  {
   "cell_type": "code",
   "execution_count": 119,
   "id": "092126ad",
   "metadata": {},
   "outputs": [
    {
     "name": "stdout",
     "output_type": "stream",
     "text": [
      "{'01000000': 1, '00000110': 3, '01000100': 1, '01000001': 1, '01000101': 1, '01000110': 1, '00000000': 1, '00000100': 1}\n"
     ]
    },
    {
     "data": {
      "image/png": "[encoded data removed]",
      "text/plain": [
       "<Figure size 700x500 with 1 Axes>"
      ]
     },
     "execution_count": 119,
     "metadata": {},
     "output_type": "execute_result"
    }
   ],
   "source": [
    "backend = Aer.get_backend('qasm_simulator')\n",
    "execution = execute(experiments = bb84_circuit.reverse_bits(), backend = backend, shots = 10)    # Shots = 1\n",
    "results = execution.result()\n",
    "counts = results.get_counts()\n",
    "\n",
    "# The counts here are the final qubit values that Bob gets after polarizing the photons through his choice of random basis! \n",
    "print(counts)\n",
    "plot_histogram(counts)\n",
    "\n",
    "\n",
    "# Quantum Communication through quantum channel ends here!"
   ]
  },
  {
   "cell_type": "code",
   "execution_count": 120,
   "id": "4f6426a3",
   "metadata": {},
   "outputs": [
    {
     "name": "stdout",
     "output_type": "stream",
     "text": [
      "0-000---\n",
      "0-000---\n",
      "0-000---\n",
      "0-000---\n",
      "0-000---\n",
      "0-000---\n",
      "0-000---\n",
      "0-000---\n"
     ]
    }
   ],
   "source": [
    "# Classical communication begins here!\n",
    "# Creating the KEY!!!\n",
    "\n",
    "# We need to compare the basis of Alice and Bob (alice_basis and bob_basis)\n",
    "\n",
    "keys = []\n",
    "for bob_key in counts:\n",
    "    possible_key = ''\n",
    "    for index in range(n_qubits):\n",
    "        if alice_basis[index] == bob_basis[index]:\n",
    "            possible_key = possible_key + str(bob_key[index])\n",
    "        else:\n",
    "            possible_key = possible_key + '-'\n",
    "    print(possible_key)\n",
    "\n",
    "    keys.append(possible_key)"
   ]
  },
  {
   "cell_type": "code",
   "execution_count": 121,
   "id": "cedf6f0f",
   "metadata": {},
   "outputs": [
    {
     "name": "stdout",
     "output_type": "stream",
     "text": [
      "00000210\n",
      "['-', '0', '-', '-', '-', '0', '1', '-']\n"
     ]
    }
   ],
   "source": [
    "info=keys[0]\n",
    "arr_info=[]\n",
    "for i in info:\n",
    "    arr_info.append(i)\n",
    "ans=\"\"\n",
    "arr=[]\n",
    "input_key=input(\"Enter the key\")\n",
    "for i in input_key:\n",
    "    arr.append(i)\n",
    "\n",
    "for i in range(0,len(info)):\n",
    "    if arr_info[i] ==\"-\":\n",
    "        ans=ans+arr[i]\n",
    "    else: \n",
    "        if arr_info[i] == arr[i]:\n",
    "            ans = ans+arr[i]\n",
    "        else:\n",
    "            ans = ans+\"2\"\n",
    "print(ans)\n",
    "print(arr_info)\n"
   ]
  },
  {
   "cell_type": "code",
   "execution_count": 122,
   "id": "adb0a457",
   "metadata": {},
   "outputs": [
    {
     "name": "stdout",
     "output_type": "stream",
     "text": [
      "Enter in the 16 character passphrase to decrypt your text file ciphertext.txt\n",
      "Inside your ciphertext message is:\n",
      "2c6fdb604effc6ba74385a69e9f61240aa34bd9f5c571fc4c85b4d073764597b0c447952ec550a573920a94bfc6d7bc223a961191eb59353c2d57f2798bfa8b85032d23ba73373074f5aa406ca73e4079c583fd2c746b76867d8a4d4239baf96455224df46123c2f582eb1f4829edef042120c64fb8eb03258c31c3cb5271427f27ba17fc822d151620bb68c56decd974a7c579dfc7de91ecc8c10600740c26c6cdc28d1baef40f76e697e7f5b7d10c573f2f51b507f64762d47c7f31ab7e204f8b61533e03ebef96a4d77a4db41ca1d0e8575ad3329f2390e15c3e0563ef603fc0a3f125c3d41dfbe370752e1efa9dbcc1e41b8a613c7ebc1b65b2cc8d6f7be1bc7dfbce1ac61fba090e49a134c51aef8b92b482c4a68112231a3f3de99aa0b603fe32d6076746a45915cf756e1b3610a5201840dee5bc2ccfe81a48a50be03680d84dd4ed08754329a7a2b0c9471750e400dee1e8b252fba16f9324fc40a945526a4946e996a5a283b37576d2e27a97732a1e53493d4ee46ea91185d1a987b5b67360bbaa7e7338128a439dd44979df20d26ad8c4afaa0226c22431c2f9988b2e89aca5cdf747f09ae025cae6453b96a7ceeb5166c826e64db93c7a5c8450a8277413b3f9e1b07110bfbaa89e5f024e19fc54a6193f91e0b0d7346347ddcc080180570e1d0464d0019425a9bd63f4327a0059a651ebf6e6427cc0850b3457e66bc0ffcc792abe254c2cba9d16817f0e680f5c08475de383c532fdaa1fe9471\n",
      "\n",
      "The decrypted message for the entire ciphertext is:\n",
      "\u000e\u001f\u001b=üÄ¦eåÕ\u0015\u0013kÇW©MSíá\u0016ýÕ¯#uCþgVA÷ßpÍì³ä\u0013=°êÿ(Ïo%»3K°\u000b@ÆC\u0002Ê×4O\u00119³¨7M\u0007\u0015$ç-'Ã§v\u0013©AY&\u0019jr²Qö°ÊüOaiÖ5\u0006\u0019ºwkéñ£(øð¼Y@\u001b\n",
      "ºßV\u0016ÁO\"À¾«fÞJÖkwç¼JZ#93* ®\u0014\fÒ\u0006\u0016QóKÔ1^DR\u000eP >|\u0002æS­¬h¨¶·ðNî\u0015\u001a\"$õl\u0003+:]ë\u0011öÂþuÈÏ\f6þØp»p(u\t£3ä\u001f¾¿åëµõ(Â¦tgÍ±¼°\u0003´¸K«ÿRoÏäsYZ\u0014úVðXÙÕ\u0012d\u001cÔ<ÍÄ\u001dà\u001adDßÚÍSô\u0014ZmaDãYàLCðXÑ\u0002^é1\u0016%\u0018ïòN®2Ò.ÝåDD?Ï\u0001\u0002O\u0004ýk]\u001fipC¼{evIi\u001a9Ïá9¢}ÆÕ¨<7Ñ5ã\u0014\n",
      "RÅ\u001dÊ¹<¤Ü«+\u001aS»\u0005£hr­ <Ë{uð¼\\¸\u00164\u001c#öPX9¸h\u0007õ¬WÉºCï!¹§\u0005â%ÐûÅ^eÞ?&\u000e}ÚÄðÏçz7çXOVg\u0018c\u0017!ªù\u001cìÓµÅÆ9;mó¹>\u000b¸Xqæqp§\u0003%å»\n",
      "\u0019ÓÊ\f\u0019\u001f\u0014ð8z´¥\u0015|t~Pô\u0016\u0013½¬ÝF\fò¶·Þ+Èßò['Ë\u001cm}m>\u0005\n",
      "\n"
     ]
    }
   ],
   "source": [
    "from AESdecryptfunc import * \n",
    "import math \n",
    "import io\n",
    "\n",
    "sys.argv[1]=\"ciphertext.txt\"\n",
    "sys.argv[2]=\"plaintext2.txt\"\n",
    "\n",
    "while(len(PassPhrase)!=16):\n",
    "    print(\"Enter in the 16 character passphrase to decrypt your text file %s\" %sys.argv[1])\n",
    "    PassPhrase=ans\n",
    "    if(len(PassPhrase)<16):\n",
    "        while(len(PassPhrase)!=16):\n",
    "            PassPhrase=PassPhrase+\"\\00\"\n",
    "    if(len(PassPhrase)>16):#check if bigger than 16 characters, if so then truncate it to be only 16 chars from [0:16]\n",
    "        print(\"Your passphrase was larger than 16, truncating passphrase.\")\n",
    "        PassPhrase=PassPhrase[0:16]\n",
    "\n",
    "#open ciphertext.txt file to read and decrypt\n",
    "file=open(sys.argv[1], \"r\")\n",
    "message=(file.read())\n",
    "print(\"Inside your ciphertext message is:\\n%s\\n\" % message)\n",
    "file.close()\n",
    "\n",
    "#set up some parameters\n",
    "start=0#set starting pointer for the part to decrypt of the ciphertext\n",
    "end=32#set ending pointer for the part to decrypt of the plaintex\n",
    "length=len(message)#check the entire size of the message\n",
    "loopmsg=0.00#create a decimal value\n",
    "loopmsg=math.ceil(length/32)+1#use formula to figure how long the message is and how many 16 character segments must be decrypted\n",
    "outputhex=\"\"#setup output message segment in hex\n",
    "asciioutput=\"\"#setup compilation of output message in ascii\n",
    "\n",
    "#need to setup roundkeys here\n",
    "PassPhrase=BitVector(textstring=PassPhrase)\n",
    "roundkey1=findroundkey(PassPhrase.get_bitvector_in_hex(),1)\n",
    "roundkey2=findroundkey(roundkey1,2)\n",
    "roundkey3=findroundkey(roundkey2,3)\n",
    "roundkey4=findroundkey(roundkey3,4)\n",
    "roundkey5=findroundkey(roundkey4,5)\n",
    "roundkey6=findroundkey(roundkey5,6)\n",
    "roundkey7=findroundkey(roundkey6,7)\n",
    "roundkey8=findroundkey(roundkey7,8)\n",
    "roundkey9=findroundkey(roundkey8,9)\n",
    "roundkey10=findroundkey(roundkey9,10)\n",
    "roundkeys=[roundkey1,roundkey2,roundkey3,roundkey4,roundkey5,roundkey6,roundkey7,roundkey8,roundkey9,roundkey10]\n",
    "\n",
    "FILEOUT = io.open(sys.argv[2], 'w', encoding='utf-8')\n",
    "\n",
    "# set up the segement message loop parameters\n",
    "for y in range(1, loopmsg): # loop to encrypt all segments of the message\n",
    "    plaintextseg = message[start:end]\n",
    "\n",
    "    # add round key\n",
    "    bv1 = BitVector(hexstring=plaintextseg)\n",
    "    bv2 = BitVector(hexstring=roundkeys[9])\n",
    "    resultbv = bv1 ^ bv2\n",
    "    myhexstring = resultbv.get_bitvector_in_hex()\n",
    "\n",
    "    #inverse shift row\n",
    "    myhexstring=invshiftrow(myhexstring)\n",
    "\n",
    "    #inverse subbyte\n",
    "    myhexstring=invsubbyte(myhexstring)\n",
    "\n",
    "    for x in range(8, -1, -1):\n",
    "        # add roundkey for current round\n",
    "        bv1 = BitVector(hexstring=myhexstring)\n",
    "        bv2 = BitVector(hexstring=roundkeys[x])\n",
    "        resultbv = bv1 ^ bv2\n",
    "        myhexstring = resultbv.get_bitvector_in_hex()\n",
    "\n",
    "        # mix column\n",
    "        bv3 = BitVector(hexstring=myhexstring)\n",
    "        myhexstring=invmixcolumn(bv3)\n",
    "\n",
    "        # shift rows\n",
    "        myhexstring = invshiftrow(myhexstring)\n",
    "\n",
    "        # sub byte\n",
    "        myhexstring = invsubbyte(myhexstring)\n",
    "\n",
    "    #add initial round key\n",
    "    bv1 = BitVector(hexstring=myhexstring)\n",
    "    bv2 = PassPhrase\n",
    "    resultbv = bv1 ^ bv2\n",
    "    myhexstring = resultbv.get_bitvector_in_hex()\n",
    "\n",
    "    start = start + 32 #increment start pointer\n",
    "    end = end + 32 #increment end pointer\n",
    "\n",
    "    replacementptr = 0\n",
    "    while (replacementptr < len(myhexstring)):\n",
    "        if (myhexstring[replacementptr:replacementptr + 2] == '0d'):\n",
    "            myhexstring = myhexstring[0:replacementptr] + myhexstring[replacementptr+2:len(myhexstring)]\n",
    "        else:\n",
    "            replacementptr = replacementptr + 2\n",
    "\n",
    "    outputhex = BitVector(hexstring=myhexstring)\n",
    "    asciioutput = outputhex.get_bitvector_in_ascii()\n",
    "    asciioutput=asciioutput.replace('\\x00','')\n",
    "    FILEOUT.write(asciioutput)\n",
    "\n",
    "FILEOUT.close()\n",
    "\n",
    "file2=io.open(sys.argv[2], \"r\", encoding='utf-8')\n",
    "print(\"The decrypted message for the entire ciphertext is:\\n%s\\n\" % file2.read())\n",
    "file2.close()"
   ]
  }
 ],
 "metadata": {
  "kernelspec": {
   "display_name": "Python 3 (ipykernel)",
   "language": "python",
   "name": "python3"
  },
  "language_info": {
   "codemirror_mode": {
    "name": "ipython",
    "version": 3
   },
   "file_extension": ".py",
   "mimetype": "text/x-python",
   "name": "python",
   "nbconvert_exporter": "python",
   "pygments_lexer": "ipython3",
   "version": "3.9.13"
  }
 },
 "nbformat": 4,
 "nbformat_minor": 5
}
